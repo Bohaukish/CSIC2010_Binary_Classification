{
 "cells": [
  {
   "cell_type": "code",
   "execution_count": 13,
   "metadata": {},
   "outputs": [
    {
     "name": "stdout",
     "output_type": "stream",
     "text": [
      "Begin....\n",
      "2020-07-03 03:46:45\n",
      "Completed...\n",
      "2020-07-03 03:46:46\n"
     ]
    }
   ],
   "source": [
    "from datetime import datetime\n",
    " \n",
    "def Main():\n",
    "    source_dir = './2019.log'\n",
    "    target_dir = './2019_Seg/'\n",
    " \n",
    "    # counter\n",
    "    flag = 0\n",
    " \n",
    "    # file name\n",
    "    name = 1\n",
    "\n",
    "    dataList = []\n",
    " \n",
    "    print(\"Begin....\")\n",
    "    print(datetime.now().strftime('%Y-%m-%d %H:%M:%S'))\n",
    " \n",
    "    with open(source_dir,'r') as f_source:\n",
    "        for line in f_source:\n",
    "          flag+=1\n",
    "          dataList.append(line)\n",
    "          if flag == 100000:\n",
    "              with open(target_dir+\"log2019_\"+str(name)+\".txt\",'w+') as f_target:\n",
    "                  for data in dataList:\n",
    "                      f_target.write(data)\n",
    "              name+=1\n",
    "              flag = 0\n",
    "              dataList = []\n",
    "                \n",
    "    # 处理最后一批行数少于10万行的\n",
    "    with open(target_dir+\"log2019_\"+str(name)+\".txt\",'w+') as f_target:\n",
    "        for data in dataList:\n",
    "            f_target.write(data)\n",
    " \n",
    "    print(\"Completed...\")\n",
    "    print(datetime.now().strftime('%Y-%m-%d %H:%M:%S'))\n",
    "    \n",
    "if __name__ == \"__main__\":\n",
    "    Main()"
   ]
  },
  {
   "cell_type": "code",
   "execution_count": null,
   "metadata": {},
   "outputs": [],
   "source": []
  }
 ],
 "metadata": {
  "kernelspec": {
   "display_name": "Python 3",
   "language": "python",
   "name": "python3"
  },
  "language_info": {
   "codemirror_mode": {
    "name": "ipython",
    "version": 3
   },
   "file_extension": ".py",
   "mimetype": "text/x-python",
   "name": "python",
   "nbconvert_exporter": "python",
   "pygments_lexer": "ipython3",
   "version": "3.7.1"
  }
 },
 "nbformat": 4,
 "nbformat_minor": 2
}
